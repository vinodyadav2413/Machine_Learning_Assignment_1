{
  "nbformat": 4,
  "nbformat_minor": 0,
  "metadata": {
    "colab": {
      "provenance": []
    },
    "kernelspec": {
      "name": "python3",
      "display_name": "Python 3"
    },
    "language_info": {
      "name": "python"
    }
  },
  "cells": [
    {
      "cell_type": "markdown",
      "source": [
        "**Question 4**\n",
        "\n",
        "it_companies = {'Facebook', 'Google', 'Microsoft', 'Apple', 'IBM', 'Oracle', 'Amazon'}\n",
        "\n",
        "A = {19, 22, 24, 20, 25, 26}\n",
        "\n",
        "B = {19, 22, 20, 25, 26, 24, 28, 27}\n",
        "\n",
        "age = [22, 19, 24, 25, 26, 24, 25, 24]\n",
        "\n",
        "• Find the length of the set it_companies\n",
        "\n",
        "• Add 'Twitter' to it_companies\n",
        "\n",
        "• Insert multiple IT companies at once to the set it_companies\n",
        "\n",
        "• Remove one of the companies from the set it_companies\n",
        "\n",
        "• What is the difference between remove and discard?\n",
        "\n",
        "**Ans: Remove() will raise Error if the specified item is not found/ does't exist in the set and discard() will not raise any error.**\n",
        "\n",
        "• Join A and B\n",
        "\n",
        "• Find A intersection B\n",
        "\n",
        "• Is A subset of B\n",
        "\n",
        "• Are A and B disjoint sets\n",
        "\n",
        "• Join A with B and B with A\n",
        "\n",
        "• What is the symmetric difference between A and B\n",
        "\n",
        "• Delete the sets completely\n",
        "\n",
        "• Convert the ages to a set and compare the length of the list and the set."
      ],
      "metadata": {
        "id": "1wEUPnr2aHgk"
      }
    },
    {
      "cell_type": "code",
      "source": [
        "from typing import Union\n",
        "it_companies = {'Facebook', 'Google', 'Microsoft', 'Apple', 'IBM', 'Oracle', 'Amazon'}\n",
        "A = {19, 22, 24, 20, 25, 26}\n",
        "B = {19, 22, 20, 25, 26, 24, 28, 27}\n",
        "age = [22, 19, 24, 25, 26, 24, 25, 24]\n",
        "print('Length of it_comapnies:',len(it_companies))\n",
        "it_companies.add('Twitter')\n",
        "print('updated set after adding \"Twitter\":',it_companies)\n",
        "it_companies.update({'Deloitte','JP Morgan'})\n",
        "print('set after inserting multiple companies:',it_companies)\n",
        "it_companies.remove('IBM')\n",
        "print('set after removing \"IBM\":',it_companies)\n",
        "print('Join \"A\" and \"B\":',A.union(B))\n",
        "print('Intersection \"A\" and \"B\":',A.intersection(B))\n",
        "print('A is subset of B:', A.issubset(B))\n",
        "print('Are A and B disjoint:', A.isdisjoint(B))\n",
        "print('A U B:',A.union(B),'\\n','B U A:',B.union(A))\n",
        "print('Symmetric diff B/W A and B:',A.symmetric_difference(B))\n",
        "del A,B\n",
        "print(\"deleted sets completely\")\n",
        "ages_set=set(age)\n",
        "if len(age)==len(ages_set): \n",
        "  print('Both are of equal length') \n",
        "else:\n",
        "  print(\"Both are of different length\")"
      ],
      "metadata": {
        "colab": {
          "base_uri": "https://localhost:8080/"
        },
        "id": "BRuZOcA1aTV2",
        "outputId": "89819045-fae1-4d72-992a-08bca97bf4c8"
      },
      "execution_count": 8,
      "outputs": [
        {
          "output_type": "stream",
          "name": "stdout",
          "text": [
            "Length of it_comapnies: 7\n",
            "updated set after adding \"Twitter\": {'IBM', 'Microsoft', 'Facebook', 'Google', 'Amazon', 'Oracle', 'Twitter', 'Apple'}\n",
            "set after inserting multiple companies: {'IBM', 'Deloitte', 'Microsoft', 'Facebook', 'Google', 'Amazon', 'Oracle', 'JP Morgan', 'Twitter', 'Apple'}\n",
            "set after removing \"IBM\": {'Deloitte', 'Microsoft', 'Facebook', 'Google', 'Amazon', 'Oracle', 'JP Morgan', 'Twitter', 'Apple'}\n",
            "Join \"A\" and \"B\": {19, 20, 22, 24, 25, 26, 27, 28}\n",
            "Intersection \"A\" and \"B\": {19, 20, 22, 24, 25, 26}\n",
            "A is subset of B: True\n",
            "Are A and B disjoint: False\n",
            "A U B: {19, 20, 22, 24, 25, 26, 27, 28} \n",
            " B U A: {19, 20, 22, 24, 25, 26, 27, 28}\n",
            "Symmetric diff B/W A and B: {27, 28}\n",
            "deleted sets completely\n",
            "Both are of different length\n"
          ]
        }
      ]
    }
  ]
}