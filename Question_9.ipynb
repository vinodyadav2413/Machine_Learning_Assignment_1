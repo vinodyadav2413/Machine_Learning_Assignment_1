{
  "nbformat": 4,
  "nbformat_minor": 0,
  "metadata": {
    "colab": {
      "provenance": []
    },
    "kernelspec": {
      "name": "python3",
      "display_name": "Python 3"
    },
    "language_info": {
      "name": "python"
    }
  },
  "cells": [
    {
      "cell_type": "markdown",
      "source": [
        "**Question 9**\n",
        "\n",
        "Write a program, which reads weights (lbs.) of N students into a list and convert these weights to kilograms in a separate list using Loop.\n",
        "\n",
        " N: No of students (Read input from user)\n",
        "\n",
        "Ex: L1: [150, 155, 145, 148]\n",
        "\n",
        "Output: [68.03, 70.3, 65.77, 67.13]"
      ],
      "metadata": {
        "id": "WvjG3iC9fwuR"
      }
    },
    {
      "cell_type": "code",
      "source": [
        "N=int(input(\"Enter No of Students:\")) #Reading input\n",
        "L1=[]\n",
        "for i in range(N):\n",
        "  a=int(input(\"Enter weight for student%d:\"%i))\n",
        "  L1.append(a)\n",
        "L2=[i*0.453592 for i in L1] #list comprehension\n",
        "print(L2)"
      ],
      "metadata": {
        "colab": {
          "base_uri": "https://localhost:8080/"
        },
        "id": "XscMDdTzfztJ",
        "outputId": "1775d683-5b7b-469d-eee3-aaf0bad1780e"
      },
      "execution_count": 2,
      "outputs": [
        {
          "output_type": "stream",
          "name": "stdout",
          "text": [
            "Enter No of Students:4\n",
            "Enter weight for student0:150\n",
            "Enter weight for student1:155\n",
            "Enter weight for student2:145\n",
            "Enter weight for student3:148\n",
            "[68.0388, 70.30676, 65.77083999999999, 67.131616]\n"
          ]
        }
      ]
    }
  ]
}