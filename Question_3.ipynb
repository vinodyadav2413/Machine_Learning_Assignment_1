{
  "nbformat": 4,
  "nbformat_minor": 0,
  "metadata": {
    "colab": {
      "provenance": []
    },
    "kernelspec": {
      "name": "python3",
      "display_name": "Python 3"
    },
    "language_info": {
      "name": "python"
    }
  },
  "cells": [
    {
      "cell_type": "markdown",
      "source": [
        "Question 3\n",
        "\n",
        "• Create a tuple containing names of your sisters and your brothers (imaginary siblings are fine)\n",
        "\n",
        "• Join brothers and sisters tuples and assign it to siblings\n",
        "\n",
        "• How many siblings do you have?\n",
        "\n",
        "• Modify the siblings tuple and add the name of your father and mother and assign it to family_members"
      ],
      "metadata": {
        "id": "1wEUPnr2aHgk"
      }
    },
    {
      "cell_type": "code",
      "source": [
        "sisters=(\"Sandhya\", \"Ramya\", \"Hemalatha\")\n",
        "brothers=(\"Vinay\",\"Vikram\",\"Mahesh\")\n",
        "siblings=sisters+brothers\n",
        "print('Siblings:',siblings)\n",
        "print('Number of siblings:',len(siblings))\n",
        "family_members=siblings+(\"Mahender\", \"Mamatha\")\n",
        "print('Family members:',family_members)"
      ],
      "metadata": {
        "colab": {
          "base_uri": "https://localhost:8080/"
        },
        "id": "BRuZOcA1aTV2",
        "outputId": "a753acc0-7fd9-4ce8-b8d6-0ad9cfc927f6"
      },
      "execution_count": 7,
      "outputs": [
        {
          "output_type": "stream",
          "name": "stdout",
          "text": [
            "Siblings: ('Sandhya', 'Ramya', 'Hemalatha', 'Vinay', 'Vikram', 'Mahesh')\n",
            "Number of siblings: 6\n",
            "Family members: ('Sandhya', 'Ramya', 'Hemalatha', 'Vinay', 'Vikram', 'Mahesh', 'Mahender', 'Mamatha')\n"
          ]
        }
      ]
    }
  ]
}