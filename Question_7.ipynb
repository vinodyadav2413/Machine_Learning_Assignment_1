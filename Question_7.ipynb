{
  "nbformat": 4,
  "nbformat_minor": 0,
  "metadata": {
    "colab": {
      "provenance": []
    },
    "kernelspec": {
      "name": "python3",
      "display_name": "Python 3"
    },
    "language_info": {
      "name": "python"
    }
  },
  "cells": [
    {
      "cell_type": "markdown",
      "source": [
        "**Question 7**\n",
        "\n",
        "Use a tab escape sequence to get the following lines.\n",
        "\n",
        "**Name     Age Country City**\n",
        "\n",
        "\n",
        "**Asabeneh 250 Finland Helsinki**"
      ],
      "metadata": {
        "id": "1wEUPnr2aHgk"
      }
    },
    {
      "cell_type": "code",
      "source": [
        "print('Name \\t\\tAge \\tCountry \\tCity')\n",
        "print('Asabeneh \\t250 \\tFinland \\tHelsinki')"
      ],
      "metadata": {
        "colab": {
          "base_uri": "https://localhost:8080/"
        },
        "id": "BRuZOcA1aTV2",
        "outputId": "79b27f9e-1707-4b08-d32b-27e53f8a422b"
      },
      "execution_count": 11,
      "outputs": [
        {
          "output_type": "stream",
          "name": "stdout",
          "text": [
            "Name \t\tAge \tCountry \tCity\n",
            "Asabeneh \t250 \tFinland \tHelsinki\n"
          ]
        }
      ]
    }
  ]
}