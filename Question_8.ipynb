{
  "nbformat": 4,
  "nbformat_minor": 0,
  "metadata": {
    "colab": {
      "provenance": []
    },
    "kernelspec": {
      "name": "python3",
      "display_name": "Python 3"
    },
    "language_info": {
      "name": "python"
    }
  },
  "cells": [
    {
      "cell_type": "markdown",
      "source": [
        "Question 8\n",
        "\n",
        "Use the string formatting method to display the following:\n",
        "\n",
        "radius = 10\n",
        "\n",
        "area = 3.14 * radius ** 2\n",
        "\n",
        "“The area of a circle with radius 10 is 314 meters square.”"
      ],
      "metadata": {
        "id": "1wEUPnr2aHgk"
      }
    },
    {
      "cell_type": "code",
      "source": [
        "r=10   # radius\n",
        "area=3.14*r**2\n",
        "print('The area of circle with radius %d is %d meter square'%(r,area))"
      ],
      "metadata": {
        "colab": {
          "base_uri": "https://localhost:8080/"
        },
        "id": "BRuZOcA1aTV2",
        "outputId": "28f0e277-305e-4da6-adc3-177af22df550"
      },
      "execution_count": 12,
      "outputs": [
        {
          "output_type": "stream",
          "name": "stdout",
          "text": [
            "The area of circle with radius 10 is 314 meter square\n"
          ]
        }
      ]
    }
  ]
}