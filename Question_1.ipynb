{
  "nbformat": 4,
  "nbformat_minor": 0,
  "metadata": {
    "colab": {
      "provenance": []
    },
    "kernelspec": {
      "name": "python3",
      "display_name": "Python 3"
    },
    "language_info": {
      "name": "python"
    }
  },
  "cells": [
    {
      "cell_type": "markdown",
      "source": [
        "Question 1:\n",
        "\n",
        "The following is a list of 10 students ages:\n",
        "\n",
        "ages = [19, 22, 19, 24, 20, 25, 26, 24, 25, 24]\n",
        "\n",
        "• Sort the list and find the min and max age\n",
        "\n",
        "• Add the min age and the max age again to the list\n",
        "\n",
        "• Find the median age (one middle item or two middle items divided by two)\n",
        "\n",
        "• Find the average age (sum of all items divided by their number)\n",
        "\n",
        "• Find the range of the ages (max minus min)"
      ],
      "metadata": {
        "id": "1wEUPnr2aHgk"
      }
    },
    {
      "cell_type": "code",
      "source": [
        "import statistics\n",
        "\n",
        "ages=[19,22,19,24,20,25,26,24,25,24]\n",
        "ages.sort()                        #sort() will arrange elements of a list in  ascending order\n",
        "print('sorted list:',ages)\n",
        "x=ages\n",
        "b=min(ages)                        #minimum value \n",
        "c=max(ages)                        #maximum value\n",
        "print('Min value:',b,'\\n','Max value:',c)\n",
        "ages.append(b)                     # append will insert an element into the list\n",
        "ages.append(c)\n",
        "print(\"updated list:\",ages)\n",
        "y=statistics.median(x)             # calculates median of data\n",
        "print('Median of ages:',y)\n",
        "Average=sum(x)/len(x)              # Average of ages 'sum of ages/ no of elements'\n",
        "print('Average of ages:',Average)\n",
        "range=c-b                          # Range= Max-Min\n",
        "print('Range of ages:',range)"
      ],
      "metadata": {
        "colab": {
          "base_uri": "https://localhost:8080/"
        },
        "id": "BRuZOcA1aTV2",
        "outputId": "52f1dd6a-3f85-4ce3-a698-13b2705a13d6"
      },
      "execution_count": 5,
      "outputs": [
        {
          "output_type": "stream",
          "name": "stdout",
          "text": [
            "sorted list: [19, 19, 20, 22, 24, 24, 24, 25, 25, 26]\n",
            "Min value: 19 \n",
            " Max value: 26\n",
            "updated list: [19, 19, 20, 22, 24, 24, 24, 25, 25, 26, 19, 26]\n",
            "Median of ages: 24.0\n",
            "Average of ages: 22.75\n",
            "Range of ages: 7\n"
          ]
        }
      ]
    }
  ]
}