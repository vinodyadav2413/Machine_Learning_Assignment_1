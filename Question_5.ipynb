{
  "nbformat": 4,
  "nbformat_minor": 0,
  "metadata": {
    "colab": {
      "provenance": []
    },
    "kernelspec": {
      "name": "python3",
      "display_name": "Python 3"
    },
    "language_info": {
      "name": "python"
    }
  },
  "cells": [
    {
      "cell_type": "markdown",
      "source": [
        "**Question 5**\n",
        "\n",
        "The radius of a circle is 30 meters.\n",
        "\n",
        "• Calculate the area of a circle and assign the value to a variable name of _area_of_circle_\n",
        "\n",
        "• Calculate the circumference of a circle and assign the value to a variable name of _circum_of_circle_\n",
        "\n",
        "• Take radius as user input and calculate the area."
      ],
      "metadata": {
        "id": "1wEUPnr2aHgk"
      }
    },
    {
      "cell_type": "code",
      "source": [
        "r= 30       #radius\n",
        "area_of_circle=3.14*r*r\n",
        "print('Area of a circle:',area_of_circle)\n",
        "circum_of_circle=2*3.14*r\n",
        "print('Circumference of circel:',circum_of_circle)\n",
        "r1=int(input())\n",
        "Area=3.14*r1*r1\n",
        "print(\"Area:\",Area)"
      ],
      "metadata": {
        "colab": {
          "base_uri": "https://localhost:8080/"
        },
        "id": "BRuZOcA1aTV2",
        "outputId": "380dbd36-5fa8-4bc0-ebc9-fb9c4bbf148a"
      },
      "execution_count": 9,
      "outputs": [
        {
          "output_type": "stream",
          "name": "stdout",
          "text": [
            "Area of a circle: 2826.0\n",
            "Circumference of circel: 188.4\n",
            "30\n",
            "Area: 2826.0\n"
          ]
        }
      ]
    }
  ]
}