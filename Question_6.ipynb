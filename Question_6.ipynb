{
  "nbformat": 4,
  "nbformat_minor": 0,
  "metadata": {
    "colab": {
      "provenance": []
    },
    "kernelspec": {
      "name": "python3",
      "display_name": "Python 3"
    },
    "language_info": {
      "name": "python"
    }
  },
  "cells": [
    {
      "cell_type": "markdown",
      "source": [
        "**Question 6**\n",
        "\n",
        "“I am a teacher and I love to inspire and teach people”\n",
        "\n",
        "• How many unique words have been used in the sentence? Use the split methods and set to get the unique words."
      ],
      "metadata": {
        "id": "1wEUPnr2aHgk"
      }
    },
    {
      "cell_type": "code",
      "source": [
        "s='I am a teacher and I love to inspire and teach people'\n",
        "s1=s.split() #splits the spring and returns the list of words\n",
        "s2=[]\n",
        "counter=0\n",
        "for i in s1:\n",
        "  if i not in s2:\n",
        "    s2.append(i)\n",
        "    counter+=1\n",
        "print(counter,s2)\n",
        "\n",
        "unique=set(s1)\n",
        "print('No of unique words are:',len(unique))  "
      ],
      "metadata": {
        "colab": {
          "base_uri": "https://localhost:8080/"
        },
        "id": "BRuZOcA1aTV2",
        "outputId": "66abd7a3-4ed2-4df6-e1da-c3bfbfc38dde"
      },
      "execution_count": 10,
      "outputs": [
        {
          "output_type": "stream",
          "name": "stdout",
          "text": [
            "10 ['I', 'am', 'a', 'teacher', 'and', 'love', 'to', 'inspire', 'teach', 'people']\n",
            "No of unique words are: 10\n"
          ]
        }
      ]
    }
  ]
}