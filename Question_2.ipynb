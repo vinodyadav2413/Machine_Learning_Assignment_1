{
  "nbformat": 4,
  "nbformat_minor": 0,
  "metadata": {
    "colab": {
      "provenance": []
    },
    "kernelspec": {
      "name": "python3",
      "display_name": "Python 3"
    },
    "language_info": {
      "name": "python"
    }
  },
  "cells": [
    {
      "cell_type": "markdown",
      "source": [
        "Question 2\n",
        "\n",
        "• Create an empty dictionary called dog\n",
        "\n",
        "• Add name, color, breed, legs, age to the dog dictionary\n",
        "\n",
        "• Create a student dictionary and add first_name, last_name, gender, age, marital status,skills, country, city and address as keys for the dictionary\n",
        "\n",
        "• Get the length of the student dictionary\n",
        "\n",
        "• Get the value of skills and check the data type, it should be a list\n",
        "\n",
        "• Modify the skills values by adding one or two skills\n",
        "\n",
        "• Get the dictionary keys as a list\n",
        "\n",
        "• Get the dictionary values as a list"
      ],
      "metadata": {
        "id": "1wEUPnr2aHgk"
      }
    },
    {
      "cell_type": "code",
      "source": [
        "dog={}\n",
        "dog['name']=\"Jacky\"\n",
        "dog[\"color\"]=\"Black & Brown\"\n",
        "dog[\"breed\"]=\"German sheperd\"\n",
        "dog[\"legs\"]=\"long\"\n",
        "dog[\"age\"]=3\n",
        "print('updated Dictionary \"dog\":',dog)\n",
        "student={\"Name\": \"Vinod Yadav\",\"Last_name\":\"Kannaboina\",\"Gender\":\"Male\",\"Marital status\": \"Unmarried\",\"Skills\":[\"python,SQL\"],\"Country\":\"India\",\"City\":\"Karimnagar\",\"Address\":\"HNO:12-137/1,Huzurabad\"}\n",
        "print('\\n',student)\n",
        "print('Length of dictionary:',len(student))\n",
        "x=student[\"Skills\"]\n",
        "print(x)\n",
        "print('data type of skils:',type(x))\n",
        "student['Skills']=[\"Machine Learning, Deep Learning\"]\n",
        "print('Student Dictionary :',student)\n",
        "y=list(student.keys()) #returns keys of student dict as list\n",
        "z=list(student.values()) #returns values as list\n",
        "print('Keys:',y,'\\n','Values:',z)"
      ],
      "metadata": {
        "colab": {
          "base_uri": "https://localhost:8080/"
        },
        "id": "BRuZOcA1aTV2",
        "outputId": "8c908abf-6a7e-488d-e500-d10940f7c703"
      },
      "execution_count": 6,
      "outputs": [
        {
          "output_type": "stream",
          "name": "stdout",
          "text": [
            "updated Dictionary \"dog\": {'name': 'Jacky', 'color': 'Black & Brown', 'breed': 'German sheperd', 'legs': 'long', 'age': 3}\n",
            "\n",
            " {'Name': 'Vinod Yadav', 'Last_name': 'Kannaboina', 'Gender': 'Male', 'Marital status': 'Unmarried', 'Skills': ['python,SQL'], 'Country': 'India', 'City': 'Karimnagar', 'Address': 'HNO:12-137/1,Huzurabad'}\n",
            "Length of dictionary: 8\n",
            "['python,SQL']\n",
            "data type of skils: <class 'list'>\n",
            "Student Dictionary : {'Name': 'Vinod Yadav', 'Last_name': 'Kannaboina', 'Gender': 'Male', 'Marital status': 'Unmarried', 'Skills': ['Machine Learning, Deep Learning'], 'Country': 'India', 'City': 'Karimnagar', 'Address': 'HNO:12-137/1,Huzurabad'}\n",
            "Keys: ['Name', 'Last_name', 'Gender', 'Marital status', 'Skills', 'Country', 'City', 'Address'] \n",
            " Values: ['Vinod Yadav', 'Kannaboina', 'Male', 'Unmarried', ['Machine Learning, Deep Learning'], 'India', 'Karimnagar', 'HNO:12-137/1,Huzurabad']\n"
          ]
        }
      ]
    }
  ]
}